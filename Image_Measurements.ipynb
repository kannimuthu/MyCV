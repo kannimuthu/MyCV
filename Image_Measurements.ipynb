{
 "cells": [
  {
   "cell_type": "code",
   "execution_count": 5,
   "id": "f47d5267",
   "metadata": {},
   "outputs": [
    {
     "name": "stdout",
     "output_type": "stream",
     "text": [
      "311.63964526336184 225.79522999763222\n",
      "751.7056904675607 217.5063428778543\n",
      "1127.6168190127971 435.8650822669104\n",
      "296.4986521401214 674.5012918449225\n",
      "882.4398571747378 740.3248158893105\n"
     ]
    },
    {
     "data": {
      "image/png": "[encoded data removed]",
      "text/plain": [
       "<Figure size 600x600 with 1 Axes>"
      ]
     },
     "metadata": {},
     "output_type": "display_data"
    }
   ],
   "source": [
    "# Region Props\n",
    "import numpy\n",
    "import cv2\n",
    "from PIL import Image\n",
    "import matplotlib.pyplot as plt\n",
    "import matplotlib.patches as mpatches\n",
    "from skimage.morphology  import label\n",
    "from skimage.measure import regionprops\n",
    "from skimage.filters.thresholding import threshold_otsu\n",
    "\n",
    "# Opening the image and converting it to grayscale.\n",
    "a = Image.open('C:/Users/Kanni/Desktop/KCE-ECE-CVP-2023/Demo/Figures_IM/objects.png').convert('L')\n",
    "# a is converted to an ndarray.\n",
    "a = numpy.asarray(a)\n",
    "# Threshold value is determined by\n",
    "# using Otsu's method.\n",
    "thresh = threshold_otsu(a)\n",
    "# The pixels with intensity greater than\n",
    "# \"theshold\" are kept.\n",
    "b = a > thresh\n",
    "# Labelling is performed on b.\n",
    "c = label(b)\n",
    "# c is saved as label_output.png\n",
    "cv2.imwrite('C:/Users/Kanni/Desktop/KCE-ECE-CVP-2023/Demo/Figures_IM/label_output.png', c)\n",
    "# On the labelled image c, regionprops is performed\n",
    "d = regionprops(c)\n",
    "# the following command creates an empty plot of\n",
    "# dimension 6 inch by 6 inch\n",
    "fig, ax = plt.subplots(ncols=1,nrows=1,\n",
    "          figsize=(6, 6))\n",
    "# plots the label image on the\n",
    "# previous plot using colormap\n",
    "ax.imshow(c, cmap='YlOrRd')\n",
    "\n",
    "for i in d:\n",
    "    # Printing the x and y values of the\n",
    "    # centroid where centroid[1] is the x value\n",
    "    # and centroid[0] is the y value.\n",
    "    print(i.centroid[1], i.centroid[0])\n",
    "    # Plot a red circle at the centroid, ro stands\n",
    "    # for red.\n",
    "    plt.plot(i.centroid[1],i.centroid[0],'ro')\n",
    "    # In the bounding box, (lr,lc) are the\n",
    "    # co-ordinates of the lower left corner and\n",
    "    # (ur,uc) are the co-ordinates\n",
    "    # of the top right corner.\n",
    "    lr, lc, ur, uc = i.bbox\n",
    "    # The width and the height of the bounding box\n",
    "    # is computed.\n",
    "    rec_width = uc - lc\n",
    "    rec_height = ur - lr\n",
    "\n",
    "    # Rectangular boxes with\n",
    "\t# origin at (lr,lc) are drawn.\n",
    "    rect = mpatches.Rectangle((lc, lr),rec_width,\n",
    "           rec_height,fill=False,edgecolor='black',\n",
    "           linewidth=2)\n",
    "    # This adds the rectangular boxes to the plot.\n",
    "    ax.add_patch(rect)\n",
    "# Saving the figure\n",
    "plt.savefig('C:/Users/Kanni/Desktop/KCE-ECE-CVP-2023/Demo/Figures_IM/regionprops_output.png')\n",
    "plt.show()\n"
   ]
  },
  {
   "cell_type": "code",
   "execution_count": 6,
   "id": "54eb92d9",
   "metadata": {},
   "outputs": [
    {
     "name": "stdout",
     "output_type": "stream",
     "text": [
      "[[[385.          1.727876 ]]\n",
      "\n",
      " [[525.          1.2566371]]\n",
      "\n",
      " [[285.          1.4137168]]\n",
      "\n",
      " [[225.          1.8849556]]\n",
      "\n",
      " [[245.          1.8849556]]\n",
      "\n",
      " [[495.          1.0995574]]\n",
      "\n",
      " [[565.          1.0995574]]\n",
      "\n",
      " [[425.          1.4137168]]\n",
      "\n",
      " [[495.          1.4137168]]\n",
      "\n",
      " [[445.          1.4137168]]\n",
      "\n",
      " [[465.          1.4137168]]\n",
      "\n",
      " [[545.          1.0995574]]\n",
      "\n",
      " [[345.          1.2566371]]\n",
      "\n",
      " [[285.          1.8849556]]\n",
      "\n",
      " [[375.          1.2566371]]\n",
      "\n",
      " [[325.          1.2566371]]\n",
      "\n",
      " [[325.          1.8849556]]]\n"
     ]
    }
   ],
   "source": [
    "import cv2\n",
    "import numpy as np\n",
    "\n",
    "# Opening the image.\n",
    "im = cv2.imread('C:/Users/Kanni/Desktop/KCE-ECE-CVP-2023/Demo/Figures_IM/hlines.png')\n",
    "# Converting the image to grayscale.\n",
    "a1 = cv2.cvtColor(im, cv2.COLOR_BGR2GRAY)\n",
    "# Thresholding the image to obtain \n",
    "# only foreground pixels.\n",
    "thresh, b1 = cv2.threshold(a1, 0, 255,\n",
    "            cv2.THRESH_BINARY_INV+cv2.THRESH_OTSU)\n",
    "\n",
    "cv2.imwrite('C:/Users/Kanni/Desktop/KCE-ECE-CVP-2023/Demo/Figures_IM/hlines_thresh.png', b1)\n",
    "# Performing the Hough lines transform.\n",
    "lines = cv2.HoughLines(b1, 10, np.pi/20, 200)\n",
    "for rho, theta in lines[0]:\n",
    "    a = np.cos(theta)\n",
    "    b = np.sin(theta)\n",
    "    x0 = a*rho\n",
    "    y0 = b*rho\n",
    "    x1 = int(x0 + 1000*(-b))\n",
    "    y1 = int(y0 + 1000*(a))\n",
    "    x2 = int(x0 - 1000*(-b))\n",
    "    y2 = int(y0 - 1000*(a))\n",
    "\n",
    "    cv2.line(im,(x1,y1),(x2,y2),(0,0,255),2)\n",
    "\n",
    "cv2.imwrite('C:/Users/Kanni/Desktop/KCE-ECE-CVP-2023/Demo/Figures_IM/houghlines_output.png', im)\n",
    "    \n",
    "# Printing the lines: distance and angle in radians.\n",
    "print(lines)\n"
   ]
  },
  {
   "cell_type": "code",
   "execution_count": 7,
   "id": "7bd6f0fa",
   "metadata": {},
   "outputs": [
    {
     "name": "stderr",
     "output_type": "stream",
     "text": [
      "C:\\Users\\Kanni\\AppData\\Local\\Temp\\ipykernel_2488\\1845908149.py:11: DeprecationWarning: Please use `median_filter` from the `scipy.ndimage` namespace, the `scipy.ndimage.filters` namespace is deprecated.\n",
      "  img = scipy.ndimage.filters.median_filter(a,size=5)\n"
     ]
    },
    {
     "data": {
      "text/plain": [
       "True"
      ]
     },
     "execution_count": 7,
     "metadata": {},
     "output_type": "execute_result"
    }
   ],
   "source": [
    "import numpy as np\n",
    "import scipy.ndimage\n",
    "from PIL import Image\n",
    "import cv2\n",
    "\n",
    "# opening the image and converting it to grayscale\n",
    "a = Image.open('C:/Users/Kanni/Desktop/KCE-ECE-CVP-2023/Demo/Figures_IM/withcontrast1.png')\n",
    "a = a.convert('L')\n",
    "# Median filter is performed on the\n",
    "# image to remove noise.\n",
    "img = scipy.ndimage.filters.median_filter(a,size=5)\n",
    "# Circles are determined using\n",
    "# Hough circles transform.\n",
    "circles = cv2.HoughCircles(img,\n",
    "          cv2.HOUGH_GRADIENT,1,10,param1=100,\n",
    "          param2=30,minRadius=10,maxRadius=30)\n",
    "# circles image is rounded to unsigned integer 16.\n",
    "circles = np.uint16(np.around(circles))\n",
    "# For each detected circle.\n",
    "for i in circles[0,:]:\n",
    "\t# An outer circle is drawn for visualization.\n",
    "    cv2.circle(img,(i[0],i[1]),i[2],(0,255,0),2)\n",
    "\t# its center is marked\n",
    "    cv2.circle(img,(i[0],i[1]),2,(0,0,255),3)\n",
    "# Saving the image as houghcircles_output.png\n",
    "cv2.imwrite('C:/Users/Kanni/Desktop/KCE-ECE-CVP-2023/Demo/Figures_IM/houghcircles_output.png', img)\n"
   ]
  },
  {
   "cell_type": "code",
   "execution_count": 8,
   "id": "8c427858",
   "metadata": {},
   "outputs": [
    {
     "name": "stdout",
     "output_type": "stream",
     "text": [
      "The number of seats are: 261\n"
     ]
    },
    {
     "data": {
      "text/plain": [
       "True"
      ]
     },
     "execution_count": 8,
     "metadata": {},
     "output_type": "execute_result"
    }
   ],
   "source": [
    "import cv2\n",
    "import numpy\n",
    "from PIL import Image\n",
    "from skimage.morphology  import label\n",
    "from skimage.measure import regionprops\n",
    "from skimage.feature import match_template\n",
    "\n",
    "# Opening the image and converting it to grayscale.\n",
    "image = Image.open('C:/Users/Kanni/Desktop/KCE-ECE-CVP-2023/Demo/Figures_IM/airline_seating.png')\n",
    "image = image.convert('L')\n",
    "# Converting the input image into an ndarray.\n",
    "image = numpy.asarray(image)\n",
    "# Reading the template image.\n",
    "temp = Image.open('C:/Users/Kanni/Desktop/KCE-ECE-CVP-2023/Demo/Figures_IM/template1.png')\n",
    "temp = temp.convert('L')\n",
    "# Converting the template into an ndarray.\n",
    "temp = numpy.asarray(temp)\n",
    "# Performing template matching.\n",
    "result = match_template(image, temp)\n",
    "thresh = 0.7\n",
    "# Thresholding the result from template\n",
    "# matching considering pixel values where the\n",
    "# normalized cross-correlation is greater than 0.7.\n",
    "res = result > thresh\n",
    "# Labeling the thresholded image.\n",
    "c = label(res, background=0)\n",
    "# Performing regionprops to count the\n",
    "# number of label.\n",
    "reprop = regionprops(c)\n",
    "print(\"The number of seats are:\", len(reprop))\n",
    "# Converting the binary image to an 8-bit for storing.\n",
    "res = res*255\n",
    "# Converting the ndarray to image.\n",
    "cv2.imwrite(\"C:/Users/Kanni/Desktop/KCE-ECE-CVP-2023/Demo/Figures_IM/templatematching_output.png\", res)\n"
   ]
  }
 ],
 "metadata": {
  "kernelspec": {
   "display_name": "Python 3",
   "language": "python",
   "name": "python3"
  },
  "language_info": {
   "codemirror_mode": {
    "name": "ipython",
    "version": 3
   },
   "file_extension": ".py",
   "mimetype": "text/x-python",
   "name": "python",
   "nbconvert_exporter": "python",
   "pygments_lexer": "ipython3",
   "version": "3.11.3"
  }
 },
 "nbformat": 4,
 "nbformat_minor": 5
}
